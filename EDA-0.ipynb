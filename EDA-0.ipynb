{
 "cells": [
  {
   "cell_type": "code",
   "execution_count": 1,
   "metadata": {},
   "outputs": [],
   "source": [
    "import random\n",
    "import urlparse\n",
    "import numpy as np\n",
    "import joblib as jl\n",
    "import xgboost as xgb\n",
    "\n",
    "import extract\n",
    "import get_rank\n",
    "import get_cert\n",
    "import get_whois\n",
    "import get_pagerank\n",
    "import get_ip\n",
    "import get_sus_tld\n",
    "import make_feature\n",
    "from file_io import load_urls"
   ]
  },
  {
   "cell_type": "code",
   "execution_count": 2,
   "metadata": {},
   "outputs": [
    {
     "name": "stderr",
     "output_type": "stream",
     "text": [
      "2018-06-20 16:48:28 file_io.py [line:52] DEBUG\tURLs Count:\t14185\n",
      "2018-06-20 16:48:28 file_io.py [line:52] DEBUG\tURLs Count:\t61595\n",
      "2018-06-20 16:48:28 file_io.py [line:52] DEBUG\tURLs Count:\t1473\n"
     ]
    },
    {
     "name": "stdout",
     "output_type": "stream",
     "text": [
      "77225\n",
      "9036\n"
     ]
    }
   ],
   "source": [
    "total_mal_urls = load_urls(\"../std_data/mal.csv\")\n",
    "total_ben_urls = load_urls(\"../std_data/ben.csv\")\n",
    "total_unk_urls = load_urls(\"../std_data/unk.csv\")\n",
    "total_urls = set(total_ben_urls) | set(total_mal_urls) | set(total_unk_urls)\n",
    "total_domains = list(set([urlparse.urlparse(_).hostname for _ in total_urls]))\n",
    "print len(total_urls)\n",
    "print len(total_domains)"
   ]
  },
  {
   "cell_type": "code",
   "execution_count": 9,
   "metadata": {},
   "outputs": [],
   "source": [
    "# tst_url_ip_map      = jl.load('../data/exp_rule/tst/url_ip_map.jl.z')\n",
    "# tst_url_ip_dmap     = jl.load('../data/exp_rule/tst/url_ip_dmap.jl.z')\n",
    "# tst_domain_rank_map = jl.load('../data/exp_rule/tst/domain_rank_map.jl.z')\n",
    "# tst_domain_cert_map = jl.load('../data/exp_rule/tst/domain_cert_map.jl.z')\n",
    "\n",
    "url_ip_map      = jl.load(\"../data/exp_rule/ip/url_ip_map2.jl.z\" )\n",
    "url_ip_dmap     = jl.load('../data/exp_rule/ip/url_ip_dmap2.jl.z')\n",
    "domain_rank_map = jl.load('../data/exp_rule/alexa_rank/alexa_rank2.jl.z')\n",
    "domain_cert_map = jl.load('../data/exp_rule/cert/certificate2.jl.z')\n",
    "\n",
    "# url_ip_map.update(tst_url_ip_map)\n",
    "# url_ip_dmap.update(tst_url_ip_dmap)\n",
    "# domain_cert_map.update(tst_domain_cert_map)\n",
    "# domain_rank_map.update(tst_domain_rank_map)\n",
    "\n",
    "# jl.dump(url_ip_map, \"../data/exp_rule/ip/url_ip_map2.jl.z\")\n",
    "# jl.dump(url_ip_dmap, '../data/exp_rule/ip/url_ip_dmap2.jl.z')\n",
    "# jl.dump(domain_cert_map, '../data/exp_rule/cert/certificate2.jl.z')\n",
    "# jl.dump(domain_rank_map, '../data/exp_rule/alexa_rank/alexa_rank2.jl.z')\n",
    "\n",
    "domain_whois_map = get_whois.load_whois_dict(path = \"../data/exp_rule/whois\")\n",
    "domain_pr_map = jl.load(\"../data/exp_rule/pr/pr.jl.z\")\n",
    "sus_domain = jl.load(\"../data/exp_rule/sus_domain/sus_domain.jl.z\")"
   ]
  },
  {
   "cell_type": "code",
   "execution_count": 10,
   "metadata": {},
   "outputs": [
    {
     "name": "stdout",
     "output_type": "stream",
     "text": [
      "77225\n",
      "12393\n",
      "9036\n",
      "9036\n",
      "\n",
      "3348\n",
      "9036\n",
      "262\n"
     ]
    }
   ],
   "source": [
    "print len(url_ip_map)\n",
    "print len(url_ip_dmap)\n",
    "print len(domain_cert_map)\n",
    "print len(domain_rank_map)\n",
    "print \"\"\n",
    "print len(domain_whois_map)\n",
    "print len(domain_pr_map)\n",
    "print len(sus_domain)"
   ]
  },
  {
   "cell_type": "code",
   "execution_count": 20,
   "metadata": {},
   "outputs": [
    {
     "name": "stdout",
     "output_type": "stream",
     "text": [
      "61595 36957 24638\n",
      "14185 8511 5674\n"
     ]
    }
   ],
   "source": [
    "split_ratio = 0.6\n",
    "train_ben_urls = random.sample(total_ben_urls, int(len(total_ben_urls)*split_ratio))\n",
    "train_mal_urls = random.sample(total_mal_urls, int(len(total_mal_urls)*split_ratio))\n",
    "\n",
    "test_ben_urls = list(set(total_ben_urls) - set(train_ben_urls))\n",
    "test_mal_urls = list(set(total_mal_urls) - set(train_mal_urls))\n",
    "\n",
    "print len(total_ben_urls), len(train_ben_urls), len(test_ben_urls)\n",
    "print len(total_mal_urls), len(train_mal_urls), len(test_mal_urls)"
   ]
  },
  {
   "cell_type": "code",
   "execution_count": 21,
   "metadata": {},
   "outputs": [],
   "source": [
    "data_obj = extract.FeatureExtract(train_mal_urls, train_ben_urls)\n",
    "data_obj.feature_extract(url_ip_dmap)"
   ]
  },
  {
   "cell_type": "code",
   "execution_count": 22,
   "metadata": {},
   "outputs": [
    {
     "name": "stdout",
     "output_type": "stream",
     "text": [
      "ben filename 18662\n",
      "mal filename 5655\n",
      "ben filepath 5405\n",
      "mal filepath 518\n",
      "mal pdomain tokens 116\n",
      "mal sdomain tokens 79\n",
      "ben pdomain tokens 627\n",
      "ben sdomain tokens 573\n",
      "ben ips 36\n",
      "ana path 6134\n",
      "ana port 91\n"
     ]
    }
   ],
   "source": [
    "print \"ben filename\", len(data_obj.ben_filename)\n",
    "print \"mal filename\", len(data_obj.mal_filename)\n",
    "print \"ben filepath\", len(data_obj.ben_filepath)\n",
    "print \"mal filepath\", len(data_obj.mal_filepath)\n",
    "\n",
    "print \"mal pdomain tokens\", len(data_obj.mal_pdomain_tokens)\n",
    "print \"mal sdomain tokens\", len(data_obj.mal_sdomain_tokens)\n",
    "print \"ben pdomain tokens\", len(data_obj.ben_pdomain_tokens)\n",
    "print \"ben sdomain tokens\", len(data_obj.ben_sdomain_tokens)\n",
    "\n",
    "print \"ben ips\", len(data_obj.mal_ips)\n",
    "print \"ana path\", len(data_obj.domain_path_map)\n",
    "print \"ana port\", len(data_obj.domain_port_map)"
   ]
  },
  {
   "cell_type": "code",
   "execution_count": 23,
   "metadata": {},
   "outputs": [],
   "source": [
    "feat_obj = make_feature.build_feature(data_obj, url_ip_map, url_ip_dmap, domain_whois_map, domain_rank_map, domain_cert_map, \\\n",
    "                                      domain_pr_map, sus_domain)"
   ]
  },
  {
   "cell_type": "code",
   "execution_count": 24,
   "metadata": {},
   "outputs": [],
   "source": [
    "train_mal_x = feat_obj.build_feature_set(train_mal_urls)\n",
    "train_ben_x = feat_obj.build_feature_set(train_ben_urls)\n",
    "test_mal_x = feat_obj.build_feature_set(test_mal_urls)\n",
    "test_ben_x = feat_obj.build_feature_set(test_ben_urls)\n",
    "unk_x = feat_obj.build_feature_set(total_unk_urls)"
   ]
  },
  {
   "cell_type": "code",
   "execution_count": 25,
   "metadata": {},
   "outputs": [],
   "source": [
    "train_x = np.concatenate((train_mal_x,train_ben_x), axis = 0)\n",
    "train_y = [1] * len(train_mal_x) + [0] * len(train_ben_x)\n",
    "\n",
    "test_x =  np.concatenate((test_mal_x, test_ben_x), axis = 0)\n",
    "test_y = [1] * len(test_mal_x) + [0] * len(test_ben_x)"
   ]
  },
  {
   "cell_type": "code",
   "execution_count": 26,
   "metadata": {
    "scrolled": true
   },
   "outputs": [
    {
     "name": "stdout",
     "output_type": "stream",
     "text": [
      "[0]\teval-error:0.010887\ttrain-error:0.002265\n",
      "[1]\teval-error:0.010887\ttrain-error:0.002265\n",
      "[2]\teval-error:0.010986\ttrain-error:0.002265\n",
      "[3]\teval-error:0.010986\ttrain-error:0.002265\n",
      "[4]\teval-error:0.010986\ttrain-error:0.002265\n",
      "[5]\teval-error:0.010953\ttrain-error:0.002155\n",
      "[6]\teval-error:0.010722\ttrain-error:0.001869\n",
      "[7]\teval-error:0.010689\ttrain-error:0.001825\n",
      "[8]\teval-error:0.010722\ttrain-error:0.001781\n",
      "[9]\teval-error:0.010788\ttrain-error:0.001759\n",
      "[10]\teval-error:0.010986\ttrain-error:0.001759\n",
      "[11]\teval-error:0.010821\ttrain-error:0.00165\n",
      "[12]\teval-error:0.010986\ttrain-error:0.00165\n",
      "[13]\teval-error:0.010788\ttrain-error:0.001606\n",
      "[14]\teval-error:0.010953\ttrain-error:0.001584\n",
      "[15]\teval-error:0.010953\ttrain-error:0.001584\n",
      "[16]\teval-error:0.011052\ttrain-error:0.001562\n",
      "[17]\teval-error:0.011052\ttrain-error:0.001518\n",
      "[18]\teval-error:0.010986\ttrain-error:0.001452\n",
      "[19]\teval-error:0.01092\ttrain-error:0.001386\n",
      "[20]\teval-error:0.010953\ttrain-error:0.001364\n",
      "[21]\teval-error:0.010986\ttrain-error:0.00132\n",
      "[22]\teval-error:0.010986\ttrain-error:0.001298\n",
      "[23]\teval-error:0.010953\ttrain-error:0.001298\n",
      "[24]\teval-error:0.010953\ttrain-error:0.001298\n",
      "[25]\teval-error:0.010887\ttrain-error:0.001298\n",
      "[26]\teval-error:0.010953\ttrain-error:0.001254\n",
      "[27]\teval-error:0.01092\ttrain-error:0.001166\n",
      "[28]\teval-error:0.010854\ttrain-error:0.001188\n",
      "[29]\teval-error:0.012536\ttrain-error:0.001144\n",
      "[30]\teval-error:0.012866\ttrain-error:0.001078\n",
      "[31]\teval-error:0.012866\ttrain-error:0.001056\n",
      "[32]\teval-error:0.012833\ttrain-error:0.001012\n",
      "[33]\teval-error:0.012866\ttrain-error:0.000902\n",
      "[34]\teval-error:0.011217\ttrain-error:0.000924\n",
      "[35]\teval-error:0.011283\ttrain-error:0.000924\n",
      "[36]\teval-error:0.011481\ttrain-error:0.000924\n",
      "[37]\teval-error:0.011349\ttrain-error:0.000946\n",
      "[38]\teval-error:0.011514\ttrain-error:0.000946\n",
      "[39]\teval-error:0.011349\ttrain-error:0.000946\n",
      "[40]\teval-error:0.013031\ttrain-error:0.000902\n",
      "[41]\teval-error:0.013064\ttrain-error:0.000858\n",
      "[42]\teval-error:0.012899\ttrain-error:0.000836\n",
      "[43]\teval-error:0.012767\ttrain-error:0.00077\n",
      "[44]\teval-error:0.012734\ttrain-error:0.00077\n",
      "[45]\teval-error:0.012932\ttrain-error:0.000748\n",
      "[46]\teval-error:0.012833\ttrain-error:0.000726\n",
      "[47]\teval-error:0.012932\ttrain-error:0.000748\n",
      "[48]\teval-error:0.012998\ttrain-error:0.000748\n",
      "[49]\teval-error:0.013031\ttrain-error:0.000704\n",
      "[50]\teval-error:0.013031\ttrain-error:0.000704\n",
      "[51]\teval-error:0.013064\ttrain-error:0.000704\n",
      "[52]\teval-error:0.013064\ttrain-error:0.000704\n",
      "[53]\teval-error:0.013031\ttrain-error:0.000682\n",
      "[54]\teval-error:0.013031\ttrain-error:0.000682\n",
      "[55]\teval-error:0.013097\ttrain-error:0.000682\n",
      "[56]\teval-error:0.012998\ttrain-error:0.00066\n",
      "[57]\teval-error:0.013064\ttrain-error:0.00066\n",
      "[58]\teval-error:0.013064\ttrain-error:0.000682\n",
      "[59]\teval-error:0.013064\ttrain-error:0.000682\n",
      "[60]\teval-error:0.013064\ttrain-error:0.00066\n",
      "[61]\teval-error:0.013064\ttrain-error:0.000682\n",
      "[62]\teval-error:0.013031\ttrain-error:0.00066\n",
      "[63]\teval-error:0.013064\ttrain-error:0.00066\n",
      "[64]\teval-error:0.013031\ttrain-error:0.00066\n",
      "[65]\teval-error:0.012965\ttrain-error:0.00066\n",
      "[66]\teval-error:0.012998\ttrain-error:0.00066\n",
      "[67]\teval-error:0.012899\ttrain-error:0.000616\n",
      "[68]\teval-error:0.012866\ttrain-error:0.000616\n",
      "[69]\teval-error:0.012833\ttrain-error:0.000616\n",
      "[70]\teval-error:0.012833\ttrain-error:0.000616\n",
      "[71]\teval-error:0.012833\ttrain-error:0.000594\n",
      "[72]\teval-error:0.012866\ttrain-error:0.000594\n",
      "[73]\teval-error:0.012866\ttrain-error:0.000594\n",
      "[74]\teval-error:0.012833\ttrain-error:0.000594\n",
      "[75]\teval-error:0.012866\ttrain-error:0.000572\n",
      "[76]\teval-error:0.012899\ttrain-error:0.000572\n",
      "[77]\teval-error:0.012866\ttrain-error:0.000594\n",
      "[78]\teval-error:0.012899\ttrain-error:0.000572\n",
      "[79]\teval-error:0.012866\ttrain-error:0.000572\n",
      "[80]\teval-error:0.012866\ttrain-error:0.00055\n",
      "[81]\teval-error:0.012833\ttrain-error:0.000528\n",
      "[82]\teval-error:0.012899\ttrain-error:0.000528\n",
      "[83]\teval-error:0.012866\ttrain-error:0.000528\n",
      "[84]\teval-error:0.012866\ttrain-error:0.000528\n",
      "[85]\teval-error:0.012866\ttrain-error:0.000528\n",
      "[86]\teval-error:0.012866\ttrain-error:0.000528\n",
      "[87]\teval-error:0.012866\ttrain-error:0.000528\n",
      "[88]\teval-error:0.012866\ttrain-error:0.000528\n",
      "[89]\teval-error:0.012899\ttrain-error:0.000528\n",
      "[90]\teval-error:0.012866\ttrain-error:0.000528\n",
      "[91]\teval-error:0.012866\ttrain-error:0.000528\n",
      "[92]\teval-error:0.012866\ttrain-error:0.000528\n",
      "[93]\teval-error:0.0128\ttrain-error:0.000506\n",
      "[94]\teval-error:0.012833\ttrain-error:0.000528\n",
      "[95]\teval-error:0.012866\ttrain-error:0.000528\n",
      "[96]\teval-error:0.012866\ttrain-error:0.000528\n",
      "[97]\teval-error:0.012833\ttrain-error:0.000528\n",
      "[98]\teval-error:0.012866\ttrain-error:0.000528\n",
      "[99]\teval-error:0.012866\ttrain-error:0.000528\n",
      "[100]\teval-error:0.012833\ttrain-error:0.000528\n",
      "[101]\teval-error:0.012833\ttrain-error:0.000528\n",
      "[102]\teval-error:0.0128\ttrain-error:0.000528\n",
      "[103]\teval-error:0.012734\ttrain-error:0.000506\n",
      "[104]\teval-error:0.012734\ttrain-error:0.000506\n",
      "[105]\teval-error:0.012734\ttrain-error:0.000506\n",
      "[106]\teval-error:0.012734\ttrain-error:0.000506\n",
      "[107]\teval-error:0.012767\ttrain-error:0.000506\n",
      "[108]\teval-error:0.0128\ttrain-error:0.000506\n",
      "[109]\teval-error:0.0128\ttrain-error:0.000506\n",
      "[110]\teval-error:0.012767\ttrain-error:0.000506\n",
      "[111]\teval-error:0.012767\ttrain-error:0.000506\n",
      "[112]\teval-error:0.012767\ttrain-error:0.000506\n",
      "[113]\teval-error:0.012767\ttrain-error:0.000506\n",
      "[114]\teval-error:0.012767\ttrain-error:0.000506\n",
      "[115]\teval-error:0.012767\ttrain-error:0.000506\n",
      "[116]\teval-error:0.012767\ttrain-error:0.000506\n",
      "[117]\teval-error:0.012767\ttrain-error:0.000506\n",
      "[118]\teval-error:0.0128\ttrain-error:0.000506\n",
      "[119]\teval-error:0.0128\ttrain-error:0.000506\n",
      "[120]\teval-error:0.0128\ttrain-error:0.000506\n",
      "[121]\teval-error:0.0128\ttrain-error:0.000506\n",
      "[122]\teval-error:0.0128\ttrain-error:0.000506\n",
      "[123]\teval-error:0.0128\ttrain-error:0.000506\n",
      "[124]\teval-error:0.0128\ttrain-error:0.000506\n",
      "[125]\teval-error:0.0128\ttrain-error:0.000506\n",
      "[126]\teval-error:0.0128\ttrain-error:0.000506\n",
      "[127]\teval-error:0.0128\ttrain-error:0.000506\n",
      "[128]\teval-error:0.0128\ttrain-error:0.000506\n",
      "[129]\teval-error:0.0128\ttrain-error:0.000506\n",
      "[130]\teval-error:0.0128\ttrain-error:0.000506\n",
      "[131]\teval-error:0.0128\ttrain-error:0.000506\n",
      "[132]\teval-error:0.0128\ttrain-error:0.000506\n",
      "[133]\teval-error:0.0128\ttrain-error:0.000506\n",
      "[134]\teval-error:0.0128\ttrain-error:0.000506\n",
      "[135]\teval-error:0.0128\ttrain-error:0.000506\n",
      "[136]\teval-error:0.0128\ttrain-error:0.000506\n",
      "[137]\teval-error:0.0128\ttrain-error:0.000506\n",
      "[138]\teval-error:0.0128\ttrain-error:0.000506\n",
      "[139]\teval-error:0.0128\ttrain-error:0.000506\n",
      "[140]\teval-error:0.0128\ttrain-error:0.000506\n",
      "[141]\teval-error:0.0128\ttrain-error:0.000506\n",
      "[142]\teval-error:0.0128\ttrain-error:0.000506\n",
      "[143]\teval-error:0.0128\ttrain-error:0.000506\n",
      "[144]\teval-error:0.0128\ttrain-error:0.000506\n",
      "[145]\teval-error:0.0128\ttrain-error:0.000506\n",
      "[146]\teval-error:0.0128\ttrain-error:0.000506\n",
      "[147]\teval-error:0.0128\ttrain-error:0.000506\n",
      "[148]\teval-error:0.0128\ttrain-error:0.000506\n",
      "[149]\teval-error:0.0128\ttrain-error:0.000506\n",
      "[150]\teval-error:0.0128\ttrain-error:0.000506\n",
      "[151]\teval-error:0.0128\ttrain-error:0.000506\n",
      "[152]\teval-error:0.0128\ttrain-error:0.000506\n",
      "[153]\teval-error:0.0128\ttrain-error:0.000506\n",
      "[154]\teval-error:0.0128\ttrain-error:0.000506\n",
      "[155]\teval-error:0.0128\ttrain-error:0.000506\n",
      "[156]\teval-error:0.0128\ttrain-error:0.000506\n",
      "[157]\teval-error:0.0128\ttrain-error:0.000506\n",
      "[158]\teval-error:0.0128\ttrain-error:0.000506\n",
      "[159]\teval-error:0.0128\ttrain-error:0.000506\n",
      "[160]\teval-error:0.0128\ttrain-error:0.000506\n",
      "[161]\teval-error:0.0128\ttrain-error:0.000506\n",
      "[162]\teval-error:0.0128\ttrain-error:0.000506\n",
      "[163]\teval-error:0.0128\ttrain-error:0.000506\n",
      "[164]\teval-error:0.0128\ttrain-error:0.000506\n",
      "[165]\teval-error:0.0128\ttrain-error:0.000506\n",
      "[166]\teval-error:0.0128\ttrain-error:0.000506\n",
      "[167]\teval-error:0.0128\ttrain-error:0.000506\n",
      "[168]\teval-error:0.0128\ttrain-error:0.000506\n",
      "[169]\teval-error:0.0128\ttrain-error:0.000506\n",
      "[170]\teval-error:0.0128\ttrain-error:0.000506\n",
      "[171]\teval-error:0.0128\ttrain-error:0.000506\n",
      "[172]\teval-error:0.0128\ttrain-error:0.000506\n",
      "[173]\teval-error:0.0128\ttrain-error:0.000506\n",
      "[174]\teval-error:0.0128\ttrain-error:0.000506\n",
      "[175]\teval-error:0.0128\ttrain-error:0.000506\n",
      "[176]\teval-error:0.0128\ttrain-error:0.000506\n",
      "[177]\teval-error:0.0128\ttrain-error:0.000506\n",
      "[178]\teval-error:0.0128\ttrain-error:0.000506\n",
      "[179]\teval-error:0.0128\ttrain-error:0.000506\n"
     ]
    },
    {
     "name": "stdout",
     "output_type": "stream",
     "text": [
      "[180]\teval-error:0.0128\ttrain-error:0.000506\n",
      "[181]\teval-error:0.0128\ttrain-error:0.000506\n",
      "[182]\teval-error:0.0128\ttrain-error:0.000506\n",
      "[183]\teval-error:0.0128\ttrain-error:0.000506\n",
      "[184]\teval-error:0.0128\ttrain-error:0.000506\n",
      "[185]\teval-error:0.0128\ttrain-error:0.000506\n",
      "[186]\teval-error:0.0128\ttrain-error:0.000506\n",
      "[187]\teval-error:0.0128\ttrain-error:0.000506\n",
      "[188]\teval-error:0.0128\ttrain-error:0.000506\n",
      "[189]\teval-error:0.0128\ttrain-error:0.000506\n",
      "[190]\teval-error:0.0128\ttrain-error:0.000506\n",
      "[191]\teval-error:0.0128\ttrain-error:0.000506\n",
      "[192]\teval-error:0.0128\ttrain-error:0.000506\n",
      "[193]\teval-error:0.0128\ttrain-error:0.000506\n",
      "[194]\teval-error:0.0128\ttrain-error:0.000506\n",
      "[195]\teval-error:0.0128\ttrain-error:0.000506\n",
      "[196]\teval-error:0.0128\ttrain-error:0.000506\n",
      "[197]\teval-error:0.0128\ttrain-error:0.000506\n",
      "[198]\teval-error:0.0128\ttrain-error:0.000506\n",
      "[199]\teval-error:0.0128\ttrain-error:0.000506\n"
     ]
    }
   ],
   "source": [
    "dtrain = xgb.DMatrix(train_x, train_y)\n",
    "dtest  = xgb.DMatrix(test_x, test_y)\n",
    "\n",
    "params={\n",
    "'booster': 'gbtree',\n",
    "'objective':'binary:logistic',\n",
    "'gamma':0.1,  \n",
    "'max_depth':12, \n",
    "'lambda':2,  \n",
    "'subsample':1, \n",
    "'colsample_bytree':1, \n",
    "'min_child_weight':1, \n",
    "'silent':0 ,\n",
    "'eta': 0.2, \n",
    "'seed':1000,\n",
    "'nthread':8\n",
    "}\n",
    "\n",
    "watchlist  = [(dtest,'eval'), (dtrain,'train')]  \n",
    "num_round = 200\n",
    "bst = xgb.train(params, dtrain, num_round, watchlist) "
   ]
  },
  {
   "cell_type": "code",
   "execution_count": 27,
   "metadata": {},
   "outputs": [
    {
     "name": "stdout",
     "output_type": "stream",
     "text": [
      "prediction:0\trecall:0.000\n",
      "prediction:8476\trecall:0.996\n",
      "\n",
      "prediction:13\trecall:0.001\n",
      "prediction:5166\trecall:0.910\n",
      "\n",
      "prediction:331\trecall:0.225\n"
     ]
    }
   ],
   "source": [
    "def xgb_prediction(data, urls, bst, thresh = 0.5, ntree_limit = 0):\n",
    "    data = xgb.DMatrix(data, [0 for _ in range(len(data))])\n",
    "    prediction = []\n",
    "    y_pred = bst.predict(data, ntree_limit = ntree_limit)\n",
    "    for pred, url in zip(y_pred, urls):\n",
    "        if pred > thresh:\n",
    "            prediction.append(url)\n",
    "    print \"prediction:%d\\trecall:%.3f\" %(len(prediction), len(prediction)/float(len(urls)))\n",
    "    return prediction\n",
    "\n",
    "ntree_limit = -1\n",
    "thresh = 0.8\n",
    "\n",
    "pred_ben_train = xgb_prediction(train_ben_x, train_ben_urls, bst, thresh = thresh, ntree_limit = ntree_limit )\n",
    "pred_mal_train = xgb_prediction(train_mal_x, train_mal_urls, bst, thresh = thresh, ntree_limit = ntree_limit )\n",
    "print \"\"\n",
    "pred_ben = xgb_prediction(test_ben_x, test_ben_urls, bst, thresh = thresh, ntree_limit = ntree_limit )\n",
    "pred_mal = xgb_prediction(test_mal_x, test_mal_urls, bst, thresh = thresh, ntree_limit = ntree_limit )\n",
    "print \"\"\n",
    "pred_unk = xgb_prediction(unk_x, total_unk_urls, bst, thresh = thresh, ntree_limit = ntree_limit )"
   ]
  },
  {
   "cell_type": "code",
   "execution_count": 28,
   "metadata": {},
   "outputs": [
    {
     "data": {
      "text/plain": [
       "['http://file.00809.cn/downgame/dkdw.exe',\n",
       " 'http://cawxxa.mavinstationery.com/001/20180411/AVPlayer_185656.apk?attname=ssplayer.apk',\n",
       " 'http://khit.cn/xldl.zip',\n",
       " 'http://static.ilclock.com/gcld/updates/makecert.exe',\n",
       " 'http://www-to--future-net-static.smartgslb.com/download/tofuture.apk?s=1',\n",
       " 'http://soft3.xzstatic.com/1210/pptdjsjzh_DownZa.Cn.rar',\n",
       " 'http://www.wdexam.com/mobile/app/wdexam.apk',\n",
       " 'http://b612kaji-static.snowcam.cn/contents/sticker/60099/60099_3_30.zip',\n",
       " 'http://tenby.720892.com/Install/yxendin_1.7z',\n",
       " 'http://adwasd.xuezuocai88.com/001/20180417/AVPlayer_221528.apk?attname=ssplayer.apk',\n",
       " 'http://app.1x948d.cn/homeman.apk',\n",
       " 'http://www.wsb003.cn/LiveUpdate/DoctorRegManager/7.0.1.7/APP/DoctorRegManager.CBCL.dll.zip',\n",
       " 'http://xy.shijialianzuiman.com/MNSY_91587044_0409.apk']"
      ]
     },
     "execution_count": 28,
     "metadata": {},
     "output_type": "execute_result"
    }
   ],
   "source": [
    "pred_ben"
   ]
  },
  {
   "cell_type": "markdown",
   "metadata": {},
   "source": [
    "### extend data"
   ]
  },
  {
   "cell_type": "code",
   "execution_count": null,
   "metadata": {},
   "outputs": [],
   "source": [
    "def get_untrack_data(total_domains, data_map):\n",
    "    urls = []\n",
    "    dd = set(total_domains) - set(data_map.keys())\n",
    "    for url in total_urls:\n",
    "        if urlparse.urlparse(url).hostname in dd:\n",
    "            urls.append(url)\n",
    "    return urls"
   ]
  },
  {
   "cell_type": "code",
   "execution_count": null,
   "metadata": {},
   "outputs": [],
   "source": [
    "tst_url_ip_map = get_ip.make_url_ip_map(urls)\n",
    "jl.dump(tst_url_ip_map,      '../data/exp_rule/tst/url_ip_map.jl.z')"
   ]
  },
  {
   "cell_type": "code",
   "execution_count": 40,
   "metadata": {},
   "outputs": [
    {
     "data": {
      "text/plain": [
       "['../data/exp_rule/tst/url_ip_dmap.jl.z']"
      ]
     },
     "execution_count": 40,
     "metadata": {},
     "output_type": "execute_result"
    }
   ],
   "source": [
    "tst_url_ip_dmap = get_ip.make_url_ip_dmap(urls)\n",
    "jl.dump(tst_url_ip_dmap,     '../data/exp_rule/tst/url_ip_dmap.jl.z')"
   ]
  },
  {
   "cell_type": "code",
   "execution_count": 47,
   "metadata": {},
   "outputs": [
    {
     "data": {
      "text/plain": [
       "['../data/exp_rule/tst/domain_cert_map.jl.z']"
      ]
     },
     "execution_count": 47,
     "metadata": {},
     "output_type": "execute_result"
    }
   ],
   "source": [
    "tst_domain_cert_map = get_cert.get_certificate_list(urls)\n",
    "jl.dump(tst_domain_cert_map, '../data/exp_rule/tst/domain_cert_map.jl.z')"
   ]
  },
  {
   "cell_type": "code",
   "execution_count": null,
   "metadata": {},
   "outputs": [],
   "source": [
    "tst_domain_rank_map = get_rank.get_alexa_rank_list(urls, n_jobs=2)\n",
    "jl.dump(tst_domain_rank_map, '../data/exp_rule/tst/domain_rank_map.jl.z')"
   ]
  },
  {
   "cell_type": "code",
   "execution_count": null,
   "metadata": {},
   "outputs": [],
   "source": [
    "domain_pr_map = get_pagerank.get_pr_list(total_urls, pr_dict=domain_pr_map)\n",
    "jl.dump(domain_pr_map, \"../data/exp_rule/pr/pr.jl.z\")"
   ]
  },
  {
   "cell_type": "code",
   "execution_count": null,
   "metadata": {},
   "outputs": [],
   "source": [
    "domain_whois_map_update = get_whois.get_whois_list(total_urls, \"../data/exp_rule/whois/\", check=True, n_jobs=4)"
   ]
  },
  {
   "cell_type": "code",
   "execution_count": 84,
   "metadata": {},
   "outputs": [
    {
     "name": "stdout",
     "output_type": "stream",
     "text": [
      "domain cnt:9036\n"
     ]
    },
    {
     "data": {
      "text/plain": [
       "['../data/exp_rule/sus_domain/sus_domain.jl.z']"
      ]
     },
     "execution_count": 84,
     "metadata": {},
     "output_type": "execute_result"
    }
   ],
   "source": [
    "sus_domain_update = get_sus_tld.extract_sus_url(total_urls)\n",
    "sus_domain = sus_domain | sus_domain_update\n",
    "jl.dump(sus_domain, \"../data/exp_rule/sus_domain/sus_domain.jl.z\")"
   ]
  }
 ],
 "metadata": {
  "kernelspec": {
   "display_name": "Python 2",
   "language": "python",
   "name": "python2"
  },
  "language_info": {
   "codemirror_mode": {
    "name": "ipython",
    "version": 2
   },
   "file_extension": ".py",
   "mimetype": "text/x-python",
   "name": "python",
   "nbconvert_exporter": "python",
   "pygments_lexer": "ipython2",
   "version": "2.7.14"
  }
 },
 "nbformat": 4,
 "nbformat_minor": 2
}
